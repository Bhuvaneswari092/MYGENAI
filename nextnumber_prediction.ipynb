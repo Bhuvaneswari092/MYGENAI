{
  "cells": [
    {
      "cell_type": "code",
      "execution_count": null,
      "metadata": {
        "colab": {
          "background_save": true,
          "base_uri": "https://localhost:8080/"
        },
        "id": "Cq4v9mT6_5CZ",
        "outputId": "889586e0-1380-4be8-a3a5-ea9511890fdb"
      },
      "outputs": [
        {
          "name": "stdout",
          "output_type": "stream",
          "text": [
            "✅ Training complete\n"
          ]
        }
      ],
      "source": [
        "import numpy as np\n",
        "from tensorflow.keras.models import Sequential\n",
        "from tensorflow.keras.layers import Embedding, LSTM, Dense\n",
        "from tensorflow.keras.preprocessing.text import Tokenizer\n",
        "from tensorflow.keras.preprocessing.sequence import pad_sequences\n",
        "from tensorflow.keras.utils import to_categorical\n",
        "\n",
        "# 1. Corpus and tokenizer\n",
        "corpus = [\"hello how are you\", \"how are you doing\", \"are you going out\", \"how is your health\"]\n",
        "tok = Tokenizer(); tok.fit_on_texts(corpus)\n",
        "\n",
        "# 2. Create input-output sequences\n",
        "seq = []\n",
        "for line in corpus:\n",
        "    tokens = tok.texts_to_sequences([line])[0]\n",
        "    for i in range(1, len(tokens)):\n",
        "        seq.append(tokens[:i+1])\n",
        "max_len = max(len(s) for s in seq)\n",
        "seq = pad_sequences(seq, maxlen=max_len, padding='pre')\n",
        "x, y = seq[:, :-1], to_categorical(seq[:, -1], num_classes=len(tok.word_index)+1)\n",
        "\n",
        "# 3. LSTM model\n",
        "model = Sequential([\n",
        "    Embedding(len(tok.word_index)+1, 10, input_length=max_len-1),\n",
        "    LSTM(50),\n",
        "    Dense(len(tok.word_index)+1, activation='softmax')\n",
        "])\n",
        "model.compile(optimizer='adam', loss='categorical_crossentropy')\n",
        "model.fit(x, y, epochs=300, verbose=0)\n",
        "print(\"✅ Training complete\")\n",
        "\n",
        "# 4. Prediction\n",
        "def predict(text):\n",
        "    t = tok.texts_to_sequences([text])[0]\n",
        "    t = pad_sequences([t], maxlen=max_len-1, padding='pre')\n",
        "    p = np.argmax(model.predict(t, verbose=0))\n",
        "    for word, i in tok.word_index.items():\n",
        "        if i == p:\n",
        "            return word\n",
        "    return \"?\"\n",
        "\n",
        "# 5. Run loop\n",
        "while True:\n",
        "    inp = input(\"Enter text: \")\n",
        "    if inp.lower() == \"exit\":\n",
        "        break\n",
        "    print(\"Next word:\", predict(inp))\n"
      ]
    }
  ],
  "metadata": {
    "colab": {
      "provenance": []
    },
    "kernelspec": {
      "display_name": "Python 3",
      "name": "python3"
    },
    "language_info": {
      "name": "python"
    }
  },
  "nbformat": 4,
  "nbformat_minor": 0
}