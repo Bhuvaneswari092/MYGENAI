{
  "nbformat": 4,
  "nbformat_minor": 0,
  "metadata": {
    "colab": {
      "provenance": []
    },
    "kernelspec": {
      "name": "python3",
      "display_name": "Python 3"
    },
    "language_info": {
      "name": "python"
    }
  },
  "cells": [
    {
      "cell_type": "code",
      "source": [
        "import spacy\n",
        "import os\n",
        "from google.colab import files\n",
        "\n",
        "\n",
        "# 🔹 Load spaCy model\n",
        "nlp = spacy.load(\"en_core_web_sm\")\n",
        "\n",
        "# 🔹 Ask user for input method\n",
        "choice = input(\"🟢 Enter 1 to upload a .txt file, or 0 to type manually: \").strip()\n",
        "\n",
        "if choice == '1':\n",
        "    print(\"📁 Please upload a .txt file:\")\n",
        "    uploaded = files.upload()\n",
        "    filename = next(iter(uploaded))\n",
        "    with open(filename, 'r') as f:\n",
        "        text = f.read()\n",
        "    print(\"📄 File uploaded successfully.\\n\")\n",
        "else:\n",
        "    text = input(\"📝 Enter your sentence: \")\n",
        "\n",
        "# 🔍 POS tagging with spaCy\n",
        "doc = nlp(text)\n",
        "\n",
        "# 📄 Output\n",
        "print(\"\\n🔸 POS Tagging with Full Forms:\\n\")\n",
        "print(f\"{'Token':15} {'POS Tag':10} {'Description'}\")\n",
        "print(\"-\" * 50)\n",
        "for token in doc:\n",
        "    tag_desc = spacy.explain(token.tag_)\n",
        "    print(f\"{token.text:15} {token.tag_:10} {tag_desc}\")"
      ],
      "metadata": {
        "colab": {
          "base_uri": "https://localhost:8080/"
        },
        "id": "uWNqeKHOU8aW",
        "outputId": "91eaaaf5-20f5-4707-b7dc-b07fdcbcffb8"
      },
      "execution_count": null,
      "outputs": [
        {
          "output_type": "stream",
          "name": "stdout",
          "text": [
            "🟢 Enter 1 to upload a .txt file, or 0 to type manually: i am bhuvana\n",
            "📝 Enter your sentence: i am from cse\n",
            "\n",
            "🔸 POS Tagging with Full Forms:\n",
            "\n",
            "Token           POS Tag    Description\n",
            "--------------------------------------------------\n",
            "i               PRP        pronoun, personal\n",
            "am              VBP        verb, non-3rd person singular present\n",
            "from            IN         conjunction, subordinating or preposition\n",
            "cse             NN         noun, singular or mass\n"
          ]
        }
      ]
    }
  ]
}