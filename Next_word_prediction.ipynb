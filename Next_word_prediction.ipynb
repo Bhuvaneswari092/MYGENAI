{
  "nbformat": 4,
  "nbformat_minor": 0,
  "metadata": {
    "colab": {
      "provenance": []
    },
    "kernelspec": {
      "name": "python3",
      "display_name": "Python 3"
    },
    "language_info": {
      "name": "python"
    }
  },
  "cells": [
    {
      "cell_type": "code",
      "source": [
        "import numpy as np, pickle\n",
        "from tensorflow.keras.models import Sequential\n",
        "from tensorflow.keras.layers import Embedding, LSTM, Dense\n",
        "from tensorflow.keras.preprocessing.text import Tokenizer\n",
        "from tensorflow.keras.preprocessing.sequence import pad_sequences\n",
        "from tensorflow.keras.utils import to_categorical\n",
        "\n",
        "corpus = [\"hello how are you\", \"how are you doing\", \"are you going out\", \"how is your health\"]\n",
        "tok = Tokenizer(); tok.fit_on_texts(corpus)\n",
        "seq = []; max_len = 0\n",
        "for line in corpus:\n",
        "    tokens = tok.texts_to_sequences([line])[0]\n",
        "    for i in range(1, len(tokens)):\n",
        "        s = tokens[:i+1]\n",
        "        seq.append(s)\n",
        "        max_len = max(max_len, len(s))\n",
        "seq = pad_sequences(seq, maxlen=max_len, padding='pre')\n",
        "x, y = seq[:, :-1], to_categorical(seq[:, -1], num_classes=len(tok.word_index)+1)\n",
        "\n",
        "model = Sequential([\n",
        "    Embedding(len(tok.word_index)+1, 10, input_length=max_len-1),\n",
        "    LSTM(50, activation='sigmoid'),\n",
        "    Dense(len(tok.word_index)+1, activation='softmax')\n",
        "])\n",
        "model.compile(optimizer=\"adam\", loss=\"categorical_crossentropy\")\n",
        "model.fit(x, y, epochs=500, verbose=0)\n",
        "\n",
        "print(\"✅ training complete\")\n",
        "\n",
        "def predict(text):\n",
        "    t = tok.texts_to_sequences([text])[0]\n",
        "    t = pad_sequences([t], maxlen=max_len-1, padding='pre')\n",
        "    p = np.argmax(model.predict(t, verbose=0))\n",
        "    for word, i in tok.word_index.items():\n",
        "        if i == p:\n",
        "            return word\n",
        "    return \"?\"\n",
        "\n",
        "while True:\n",
        "    seed = input(\"Enter input: \")\n",
        "    if seed.lower() == \"exit\":\n",
        "        break\n",
        "    print(\"Predicted next word:\", predict(seed))\n"
      ],
      "metadata": {
        "colab": {
          "base_uri": "https://localhost:8080/"
        },
        "id": "_Ku6x61H8keU",
        "outputId": "e231ea13-212d-4a7a-9a45-0dc7a1566b43"
      },
      "execution_count": null,
      "outputs": [
        {
          "name": "stdout",
          "output_type": "stream",
          "text": [
            "✅ training complete\n",
            "Enter input: you\n"
          ]
        },
        {
          "output_type": "stream",
          "name": "stderr",
          "text": [
            "WARNING:tensorflow:5 out of the last 5 calls to <function TensorFlowTrainer.make_predict_function.<locals>.one_step_on_data_distributed at 0x7e817b8a6ac0> triggered tf.function retracing. Tracing is expensive and the excessive number of tracings could be due to (1) creating @tf.function repeatedly in a loop, (2) passing tensors with different shapes, (3) passing Python objects instead of tensors. For (1), please define your @tf.function outside of the loop. For (2), @tf.function has reduce_retracing=True option that can avoid unnecessary retracing. For (3), please refer to https://www.tensorflow.org/guide/function#controlling_retracing and https://www.tensorflow.org/api_docs/python/tf/function for  more details.\n"
          ]
        },
        {
          "name": "stdout",
          "output_type": "stream",
          "text": [
            "Predicted next word: you\n",
            "Enter input: hoe\n",
            "Predicted next word: is\n",
            "Enter input: how\n",
            "Predicted next word: are\n",
            "Enter input: exit\n"
          ]
        }
      ]
    }
  ]
}